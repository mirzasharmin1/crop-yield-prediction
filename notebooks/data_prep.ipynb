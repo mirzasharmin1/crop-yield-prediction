{
 "cells": [
  {
   "cell_type": "code",
   "outputs": [],
   "source": [
    "import pandas as pd"
   ],
   "metadata": {
    "collapsed": false,
    "ExecuteTime": {
     "end_time": "2025-04-22T21:56:19.291330Z",
     "start_time": "2025-04-22T21:56:19.110077Z"
    }
   },
   "id": "f910f538a16bb339",
   "execution_count": 1
  },
  {
   "cell_type": "code",
   "outputs": [],
   "source": [
    "from src.read_data import read_countries_data\n",
    "\n",
    "countries_df = read_countries_data()"
   ],
   "metadata": {
    "collapsed": false,
    "ExecuteTime": {
     "end_time": "2025-04-22T21:56:19.296332Z",
     "start_time": "2025-04-22T21:56:19.292294Z"
    }
   },
   "id": "4d1d8ab93403a872",
   "execution_count": 2
  },
  {
   "cell_type": "code",
   "outputs": [
    {
     "data": {
      "text/plain": "      latitude   longitude            country     area    radius\n0    33.939110   67.709953        Afghanistan   652090  4.555949\n1    41.153332   20.168331            Albania    28748  0.956597\n2    28.033886    1.659626            Algeria  2381741  8.707076\n3   -14.270972 -170.132217     American Samoa      199  0.079589\n4    42.546245    1.601554            Andorra      468  0.122053\n..         ...         ...                ...      ...       ...\n240 -13.768752 -177.156097  Wallis and Futuna      200  0.079788\n241  24.215527  -12.885834     Western Sahara   266000  2.909818\n242  15.552727   48.516388              Yemen   527968  4.099481\n243 -13.133897   27.849332             Zambia   752618  4.894545\n244 -19.015438   29.154857           Zimbabwe   390757  3.526781\n\n[245 rows x 5 columns]",
      "text/html": "<div>\n<style scoped>\n    .dataframe tbody tr th:only-of-type {\n        vertical-align: middle;\n    }\n\n    .dataframe tbody tr th {\n        vertical-align: top;\n    }\n\n    .dataframe thead th {\n        text-align: right;\n    }\n</style>\n<table border=\"1\" class=\"dataframe\">\n  <thead>\n    <tr style=\"text-align: right;\">\n      <th></th>\n      <th>latitude</th>\n      <th>longitude</th>\n      <th>country</th>\n      <th>area</th>\n      <th>radius</th>\n    </tr>\n  </thead>\n  <tbody>\n    <tr>\n      <th>0</th>\n      <td>33.939110</td>\n      <td>67.709953</td>\n      <td>Afghanistan</td>\n      <td>652090</td>\n      <td>4.555949</td>\n    </tr>\n    <tr>\n      <th>1</th>\n      <td>41.153332</td>\n      <td>20.168331</td>\n      <td>Albania</td>\n      <td>28748</td>\n      <td>0.956597</td>\n    </tr>\n    <tr>\n      <th>2</th>\n      <td>28.033886</td>\n      <td>1.659626</td>\n      <td>Algeria</td>\n      <td>2381741</td>\n      <td>8.707076</td>\n    </tr>\n    <tr>\n      <th>3</th>\n      <td>-14.270972</td>\n      <td>-170.132217</td>\n      <td>American Samoa</td>\n      <td>199</td>\n      <td>0.079589</td>\n    </tr>\n    <tr>\n      <th>4</th>\n      <td>42.546245</td>\n      <td>1.601554</td>\n      <td>Andorra</td>\n      <td>468</td>\n      <td>0.122053</td>\n    </tr>\n    <tr>\n      <th>...</th>\n      <td>...</td>\n      <td>...</td>\n      <td>...</td>\n      <td>...</td>\n      <td>...</td>\n    </tr>\n    <tr>\n      <th>240</th>\n      <td>-13.768752</td>\n      <td>-177.156097</td>\n      <td>Wallis and Futuna</td>\n      <td>200</td>\n      <td>0.079788</td>\n    </tr>\n    <tr>\n      <th>241</th>\n      <td>24.215527</td>\n      <td>-12.885834</td>\n      <td>Western Sahara</td>\n      <td>266000</td>\n      <td>2.909818</td>\n    </tr>\n    <tr>\n      <th>242</th>\n      <td>15.552727</td>\n      <td>48.516388</td>\n      <td>Yemen</td>\n      <td>527968</td>\n      <td>4.099481</td>\n    </tr>\n    <tr>\n      <th>243</th>\n      <td>-13.133897</td>\n      <td>27.849332</td>\n      <td>Zambia</td>\n      <td>752618</td>\n      <td>4.894545</td>\n    </tr>\n    <tr>\n      <th>244</th>\n      <td>-19.015438</td>\n      <td>29.154857</td>\n      <td>Zimbabwe</td>\n      <td>390757</td>\n      <td>3.526781</td>\n    </tr>\n  </tbody>\n</table>\n<p>245 rows × 5 columns</p>\n</div>"
     },
     "execution_count": 3,
     "metadata": {},
     "output_type": "execute_result"
    }
   ],
   "source": [
    "countries_df"
   ],
   "metadata": {
    "collapsed": false,
    "ExecuteTime": {
     "end_time": "2025-04-22T21:56:19.302307Z",
     "start_time": "2025-04-22T21:56:19.296902Z"
    }
   },
   "id": "f7d76ad93a924c6f",
   "execution_count": 3
  },
  {
   "cell_type": "code",
   "outputs": [
    {
     "data": {
      "text/plain": "latitude     float64\nlongitude    float64\ncountry       object\narea          object\nradius       float64\ndtype: object"
     },
     "execution_count": 4,
     "metadata": {},
     "output_type": "execute_result"
    }
   ],
   "source": [
    "countries_df.dtypes"
   ],
   "metadata": {
    "collapsed": false,
    "ExecuteTime": {
     "end_time": "2025-04-22T21:56:19.305271Z",
     "start_time": "2025-04-22T21:56:19.303031Z"
    }
   },
   "id": "2610d5c7dfe2a1ce",
   "execution_count": 4
  },
  {
   "cell_type": "code",
   "outputs": [
    {
     "data": {
      "text/plain": "'Australia'"
     },
     "execution_count": 13,
     "metadata": {},
     "output_type": "execute_result"
    }
   ],
   "source": [
    "from src.utils import get_country_from_coordinates\n",
    "\n",
    "get_country_from_coordinates(-23.5, 144.5, countries_df)"
   ],
   "metadata": {
    "collapsed": false,
    "ExecuteTime": {
     "end_time": "2025-04-22T21:59:27.727540Z",
     "start_time": "2025-04-22T21:59:27.722136Z"
    }
   },
   "id": "f563c560f3973e70",
   "execution_count": 13
  },
  {
   "cell_type": "code",
   "outputs": [],
   "source": [],
   "metadata": {
    "collapsed": false,
    "ExecuteTime": {
     "end_time": "2025-04-22T21:56:19.315187Z",
     "start_time": "2025-04-22T21:56:19.314096Z"
    }
   },
   "id": "4defbffc8a51e1a4",
   "execution_count": 5
  },
  {
   "cell_type": "code",
   "outputs": [],
   "source": [],
   "metadata": {
    "collapsed": false,
    "ExecuteTime": {
     "end_time": "2025-04-22T21:56:19.316843Z",
     "start_time": "2025-04-22T21:56:19.315683Z"
    }
   },
   "id": "fc1cff853a32f53d",
   "execution_count": 5
  }
 ],
 "metadata": {
  "kernelspec": {
   "display_name": "Python 3",
   "language": "python",
   "name": "python3"
  },
  "language_info": {
   "codemirror_mode": {
    "name": "ipython",
    "version": 2
   },
   "file_extension": ".py",
   "mimetype": "text/x-python",
   "name": "python",
   "nbconvert_exporter": "python",
   "pygments_lexer": "ipython2",
   "version": "2.7.6"
  }
 },
 "nbformat": 4,
 "nbformat_minor": 5
}
